{
  "nbformat": 4,
  "nbformat_minor": 0,
  "metadata": {
    "anaconda-cloud": {},
    "kernelspec": {
      "display_name": "Python 3",
      "language": "python",
      "name": "python3"
    },
    "language_info": {
      "codemirror_mode": {
        "name": "ipython",
        "version": 3
      },
      "file_extension": ".py",
      "mimetype": "text/x-python",
      "name": "python",
      "nbconvert_exporter": "python",
      "pygments_lexer": "ipython3",
      "version": "3.6.5"
    },
    "colab": {
      "name": "Bank Marketing Optimisation.ipynb",
      "provenance": []
    }
  },
  "cells": [
    {
      "cell_type": "code",
      "metadata": {
        "id": "e1hHL_dXLBNC"
      },
      "source": [
        "import pandas as pd\n",
        "#load the CSV file\n",
        "df = pd.read_csv('bank-full.csv')"
      ],
      "execution_count": 3,
      "outputs": []
    },
    {
      "cell_type": "code",
      "metadata": {
        "id": "7qRUv4nsLBNE"
      },
      "source": [
        "df.info()"
      ],
      "execution_count": null,
      "outputs": []
    },
    {
      "cell_type": "code",
      "metadata": {
        "colab": {
          "base_uri": "https://localhost:8080/"
        },
        "id": "IL_p4EJbLBNF",
        "outputId": "7b318f65-8edf-434a-97eb-5da77c21071f"
      },
      "source": [
        "df.groupby('y').size() # to see distribution of data"
      ],
      "execution_count": 5,
      "outputs": [
        {
          "output_type": "execute_result",
          "data": {
            "text/plain": [
              "y\n",
              "no     39922\n",
              "yes     5289\n",
              "dtype: int64"
            ]
          },
          "metadata": {},
          "execution_count": 5
        }
      ]
    },
    {
      "cell_type": "code",
      "metadata": {
        "id": "UXc65TtdLBNG"
      },
      "source": [
        "df['OUTPUT_LABEL'] = (df.y == 'yes').astype('int')  # to convert output data to integer(binary) from string"
      ],
      "execution_count": 6,
      "outputs": []
    },
    {
      "cell_type": "code",
      "metadata": {
        "colab": {
          "base_uri": "https://localhost:8080/",
          "height": 206
        },
        "id": "k43tAFFzLBNI",
        "outputId": "64d65a87-aafd-42ab-e73c-7e71fb695103"
      },
      "source": [
        "df[list(df.columns)[:10]].head()"
      ],
      "execution_count": 7,
      "outputs": [
        {
          "output_type": "execute_result",
          "data": {
            "text/html": [
              "<div>\n",
              "<style scoped>\n",
              "    .dataframe tbody tr th:only-of-type {\n",
              "        vertical-align: middle;\n",
              "    }\n",
              "\n",
              "    .dataframe tbody tr th {\n",
              "        vertical-align: top;\n",
              "    }\n",
              "\n",
              "    .dataframe thead th {\n",
              "        text-align: right;\n",
              "    }\n",
              "</style>\n",
              "<table border=\"1\" class=\"dataframe\">\n",
              "  <thead>\n",
              "    <tr style=\"text-align: right;\">\n",
              "      <th></th>\n",
              "      <th>age</th>\n",
              "      <th>job</th>\n",
              "      <th>marital</th>\n",
              "      <th>education</th>\n",
              "      <th>default</th>\n",
              "      <th>balance</th>\n",
              "      <th>housing</th>\n",
              "      <th>loan</th>\n",
              "      <th>contact</th>\n",
              "      <th>day</th>\n",
              "    </tr>\n",
              "  </thead>\n",
              "  <tbody>\n",
              "    <tr>\n",
              "      <th>0</th>\n",
              "      <td>58</td>\n",
              "      <td>management</td>\n",
              "      <td>married</td>\n",
              "      <td>tertiary</td>\n",
              "      <td>no</td>\n",
              "      <td>2143</td>\n",
              "      <td>yes</td>\n",
              "      <td>no</td>\n",
              "      <td>unknown</td>\n",
              "      <td>5</td>\n",
              "    </tr>\n",
              "    <tr>\n",
              "      <th>1</th>\n",
              "      <td>44</td>\n",
              "      <td>technician</td>\n",
              "      <td>single</td>\n",
              "      <td>secondary</td>\n",
              "      <td>no</td>\n",
              "      <td>29</td>\n",
              "      <td>yes</td>\n",
              "      <td>no</td>\n",
              "      <td>unknown</td>\n",
              "      <td>5</td>\n",
              "    </tr>\n",
              "    <tr>\n",
              "      <th>2</th>\n",
              "      <td>33</td>\n",
              "      <td>entrepreneur</td>\n",
              "      <td>married</td>\n",
              "      <td>secondary</td>\n",
              "      <td>no</td>\n",
              "      <td>2</td>\n",
              "      <td>yes</td>\n",
              "      <td>yes</td>\n",
              "      <td>unknown</td>\n",
              "      <td>5</td>\n",
              "    </tr>\n",
              "    <tr>\n",
              "      <th>3</th>\n",
              "      <td>47</td>\n",
              "      <td>blue-collar</td>\n",
              "      <td>married</td>\n",
              "      <td>unknown</td>\n",
              "      <td>no</td>\n",
              "      <td>1506</td>\n",
              "      <td>yes</td>\n",
              "      <td>no</td>\n",
              "      <td>unknown</td>\n",
              "      <td>5</td>\n",
              "    </tr>\n",
              "    <tr>\n",
              "      <th>4</th>\n",
              "      <td>33</td>\n",
              "      <td>unknown</td>\n",
              "      <td>single</td>\n",
              "      <td>unknown</td>\n",
              "      <td>no</td>\n",
              "      <td>1</td>\n",
              "      <td>no</td>\n",
              "      <td>no</td>\n",
              "      <td>unknown</td>\n",
              "      <td>5</td>\n",
              "    </tr>\n",
              "  </tbody>\n",
              "</table>\n",
              "</div>"
            ],
            "text/plain": [
              "   age           job  marital  education  ... housing  loan  contact day\n",
              "0   58    management  married   tertiary  ...     yes    no  unknown   5\n",
              "1   44    technician   single  secondary  ...     yes    no  unknown   5\n",
              "2   33  entrepreneur  married  secondary  ...     yes   yes  unknown   5\n",
              "3   47   blue-collar  married    unknown  ...     yes    no  unknown   5\n",
              "4   33       unknown   single    unknown  ...      no    no  unknown   5\n",
              "\n",
              "[5 rows x 10 columns]"
            ]
          },
          "metadata": {},
          "execution_count": 7
        }
      ]
    },
    {
      "cell_type": "code",
      "metadata": {
        "colab": {
          "base_uri": "https://localhost:8080/"
        },
        "id": "JqgBRNjMLBNJ",
        "outputId": "16991300-b09f-4dc1-8f02-27733ec6854a"
      },
      "source": [
        "df.info()"
      ],
      "execution_count": 8,
      "outputs": [
        {
          "output_type": "stream",
          "name": "stdout",
          "text": [
            "<class 'pandas.core.frame.DataFrame'>\n",
            "RangeIndex: 45211 entries, 0 to 45210\n",
            "Data columns (total 18 columns):\n",
            " #   Column        Non-Null Count  Dtype \n",
            "---  ------        --------------  ----- \n",
            " 0   age           45211 non-null  int64 \n",
            " 1   job           45211 non-null  object\n",
            " 2   marital       45211 non-null  object\n",
            " 3   education     45211 non-null  object\n",
            " 4   default       45211 non-null  object\n",
            " 5   balance       45211 non-null  int64 \n",
            " 6   housing       45211 non-null  object\n",
            " 7   loan          45211 non-null  object\n",
            " 8   contact       45211 non-null  object\n",
            " 9   day           45211 non-null  int64 \n",
            " 10  month         45211 non-null  object\n",
            " 11  duration      45211 non-null  int64 \n",
            " 12  campaign      45211 non-null  int64 \n",
            " 13  pdays         45211 non-null  int64 \n",
            " 14  previous      45211 non-null  int64 \n",
            " 15  poutcome      45211 non-null  object\n",
            " 16  y             45211 non-null  object\n",
            " 17  OUTPUT_LABEL  45211 non-null  int64 \n",
            "dtypes: int64(8), object(10)\n",
            "memory usage: 6.2+ MB\n"
          ]
        }
      ]
    },
    {
      "cell_type": "code",
      "metadata": {
        "colab": {
          "base_uri": "https://localhost:8080/"
        },
        "id": "6kj_UCsCLBNJ",
        "outputId": "81da1154-a28c-4926-974d-67611891ca20"
      },
      "source": [
        "# For string type values seeing the possible values stored\n",
        "for a in list(df.columns):\n",
        "    \n",
        "    # here n is a list of unique values\n",
        "    n = df[a].unique() \n",
        "    \n",
        "    # if number of unique values is less than 30, print the values. Otherwise print the number of unique values\n",
        "    if len(n)<30:\n",
        "        print(a)\n",
        "        print(n)\n",
        "    else:\n",
        "        print(a + ': ' +str(len(n)) + ' unique values')"
      ],
      "execution_count": 17,
      "outputs": [
        {
          "output_type": "stream",
          "name": "stdout",
          "text": [
            "age: 77 unique values\n",
            "job\n",
            "['management' 'technician' 'entrepreneur' 'blue-collar' 'unknown'\n",
            " 'retired' 'admin.' 'services' 'self-employed' 'unemployed' 'housemaid'\n",
            " 'student']\n",
            "marital\n",
            "['married' 'single' 'divorced']\n",
            "education\n",
            "['tertiary' 'secondary' 'unknown' 'primary']\n",
            "default\n",
            "['no' 'yes']\n",
            "balance: 7168 unique values\n",
            "housing\n",
            "['yes' 'no']\n",
            "loan\n",
            "['no' 'yes']\n",
            "contact\n",
            "['unknown' 'cellular' 'telephone']\n",
            "day: 31 unique values\n",
            "month\n",
            "['may' 'jun' 'jul' 'aug' 'oct' 'nov' 'dec' 'jan' 'feb' 'mar' 'apr' 'sep']\n",
            "duration: 1573 unique values\n",
            "campaign: 48 unique values\n",
            "pdays: 559 unique values\n",
            "previous: 41 unique values\n",
            "poutcome\n",
            "['unknown' 'failure' 'other' 'success']\n",
            "y\n",
            "['no' 'yes']\n",
            "OUTPUT_LABEL\n",
            "[0 1]\n"
          ]
        }
      ]
    },
    {
      "cell_type": "code",
      "metadata": {
        "id": "r3Sc6h9ELBNL"
      },
      "source": [
        "cols_num = ['campaign', 'pdays',\n",
        "       'previous', 'day','age','balance','duration']  # numerical type values columns"
      ],
      "execution_count": 9,
      "outputs": []
    },
    {
      "cell_type": "code",
      "metadata": {
        "colab": {
          "base_uri": "https://localhost:8080/",
          "height": 509
        },
        "id": "Ey_muVFaLBNM",
        "outputId": "8e453f70-c47e-471a-c092-91bb8d152eeb"
      },
      "source": [
        "import numpy as np\n",
        "import matplotlib.pyplot as plt\n",
        "import seaborn as sns  # using the seaborn style\n",
        "%matplotlib inline\n",
        "\n",
        "fig, ax = plt.subplots()\n",
        "fig.set_size_inches(20, 8)  # setting the size of the figure\n",
        "sns.countplot(x = 'age', data =  df[cols_num])\n",
        "ax.set_xlabel('Age', fontsize=15)\n",
        "ax.set_ylabel('Count', fontsize=15)\n",
        "ax.set_title('Age Count Distribution', fontsize=15)"
      ],
      "execution_count": 10,
      "outputs": [
        {
          "output_type": "execute_result",
          "data": {
            "text/plain": [
              "Text(0.5, 1.0, 'Age Count Distribution')"
            ]
          },
          "metadata": {},
          "execution_count": 10
        },
        {
          "output_type": "display_data",
          "data": {
            "image/png": "[encoded data removed]",
            "text/plain": [
              "<Figure size 1440x576 with 1 Axes>"
            ]
          },
          "metadata": {
            "needs_background": "light"
          }
        }
      ]
    },
    {
      "cell_type": "code",
      "metadata": {
        "id": "Yr-dPmRNLBNN"
      },
      "source": [
        "cols_cat = ['job', 'marital', \n",
        "       'education', 'default',\n",
        "       'housing', 'loan', 'contact', 'month'\n",
        "       , 'poutcome']"
      ],
      "execution_count": 12,
      "outputs": []
    },
    {
      "cell_type": "code",
      "metadata": {
        "id": "NbjClXXdLBNR"
      },
      "source": [
        "df = pd.concat([df,cols_new_cat], axis = 1)  # to add the one-hot encoding columns to the dataframe, we use the concat function. axis = 1 is used to add the columns."
      ],
      "execution_count": 14,
      "outputs": []
    },
    {
      "cell_type": "code",
      "metadata": {
        "id": "gbCLOOw3LBNR"
      },
      "source": [
        "cols_all_cat=list(cols_new_cat.columns)"
      ],
      "execution_count": 15,
      "outputs": []
    },
    {
      "cell_type": "code",
      "metadata": {
        "colab": {
          "base_uri": "https://localhost:8080/"
        },
        "id": "MzXc_YOTLBNR",
        "outputId": "a044fb1f-5e4a-43b4-87cd-ce551b62982e"
      },
      "source": [
        "df[cols_num+cols_all_cat].isnull().sum().sort_values(ascending = False)  # to check for null values if any"
      ],
      "execution_count": 21,
      "outputs": [
        {
          "output_type": "execute_result",
          "data": {
            "text/plain": [
              "poutcome_unknown       0\n",
              "job_retired            0\n",
              "education_primary      0\n",
              "marital_single         0\n",
              "marital_married        0\n",
              "marital_divorced       0\n",
              "job_unknown            0\n",
              "job_unemployed         0\n",
              "job_technician         0\n",
              "job_student            0\n",
              "job_services           0\n",
              "job_self-employed      0\n",
              "job_management         0\n",
              "education_tertiary     0\n",
              "job_housemaid          0\n",
              "job_entrepreneur       0\n",
              "job_blue-collar        0\n",
              "job_admin.             0\n",
              "duration               0\n",
              "balance                0\n",
              "age                    0\n",
              "day                    0\n",
              "previous               0\n",
              "pdays                  0\n",
              "education_secondary    0\n",
              "education_unknown      0\n",
              "poutcome_success       0\n",
              "month_feb              0\n",
              "poutcome_other         0\n",
              "poutcome_failure       0\n",
              "month_sep              0\n",
              "month_oct              0\n",
              "month_nov              0\n",
              "month_may              0\n",
              "month_mar              0\n",
              "month_jun              0\n",
              "month_jul              0\n",
              "month_jan              0\n",
              "month_dec              0\n",
              "default_no             0\n",
              "month_aug              0\n",
              "month_apr              0\n",
              "contact_unknown        0\n",
              "contact_telephone      0\n",
              "contact_cellular       0\n",
              "loan_yes               0\n",
              "loan_no                0\n",
              "housing_yes            0\n",
              "housing_no             0\n",
              "default_yes            0\n",
              "campaign               0\n",
              "dtype: int64"
            ]
          },
          "metadata": {},
          "execution_count": 21
        }
      ]
    },
    {
      "cell_type": "code",
      "metadata": {
        "id": "cKnmlTP3LBNS"
      },
      "source": [
        "cols_input = cols_num + cols_all_cat\n",
        "df_data = df[cols_input + ['OUTPUT_LABEL']]"
      ],
      "execution_count": 17,
      "outputs": []
    },
    {
      "cell_type": "code",
      "metadata": {
        "id": "-j4XTHemLBNS"
      },
      "source": [
        "cols_input"
      ],
      "execution_count": null,
      "outputs": []
    },
    {
      "cell_type": "code",
      "metadata": {
        "id": "xHQde4AQLBNS"
      },
      "source": [
        "df_data.head(50)"
      ],
      "execution_count": null,
      "outputs": []
    },
    {
      "cell_type": "code",
      "metadata": {
        "id": "Vuc9ZRZCAwsC"
      },
      "source": [
        "df_data = df_data.sample(n = len(df_data), random_state = 42)\n",
        "df_data = df_data.reset_index(drop = True)  # to randomly shuffle the data"
      ],
      "execution_count": 31,
      "outputs": []
    },
    {
      "cell_type": "code",
      "metadata": {
        "colab": {
          "base_uri": "https://localhost:8080/"
        },
        "id": "vCbKGoHzAw3b",
        "outputId": "65dd260e-8323-4373-825f-f01441fbae25"
      },
      "source": [
        "df_valid_test=df_data.sample(frac=0.30,random_state=42)\n",
        "print('Split size: %.3f'%(len(df_valid_test)/len(df_data)))"
      ],
      "execution_count": 32,
      "outputs": [
        {
          "output_type": "stream",
          "name": "stdout",
          "text": [
            "Split size: 0.300\n"
          ]
        }
      ]
    },
    {
      "cell_type": "code",
      "metadata": {
        "id": "47l_ALYbAxAi"
      },
      "source": [
        "df_test = df_valid_test.sample(frac = 0.5, random_state = 42)  # 50% of the 30% i.e. 15% to the test set\n",
        "df_valid = df_valid_test.drop(df_test.index)  # remaining 15% to validation set"
      ],
      "execution_count": 33,
      "outputs": []
    },
    {
      "cell_type": "code",
      "metadata": {
        "id": "uDwr9qcfAxDb"
      },
      "source": [
        "df_train_all=df_data.drop(df_valid_test.index)"
      ],
      "execution_count": null,
      "outputs": []
    },
    {
      "cell_type": "code",
      "metadata": {
        "id": "MGN_d9stAxF2"
      },
      "source": [
        "#The following steps are to ensure there isn't any biased data division leading to sampling related inaccuracies\n",
        "# split the training data into positive and negative\n",
        "rows_pos = df_train_all.OUTPUT_LABEL == 1\n",
        "df_train_pos = df_train_all.loc[rows_pos]\n",
        "df_train_neg = df_train_all.loc[~rows_pos]\n",
        "\n",
        "# merge the balanced data\n",
        "df_train = pd.concat([df_train_pos, df_train_neg.sample(n = len(df_train_pos), random_state = 42)],axis = 0)\n",
        "\n",
        "# shuffle the order of training samples \n",
        "df_train = df_train.sample(n = len(df_train), random_state = 42).reset_index(drop = True)"
      ],
      "execution_count": 34,
      "outputs": []
    },
    {
      "cell_type": "code",
      "metadata": {
        "id": "iNk5BPLdLBNT"
      },
      "source": [
        "# split the validation into positive and negative\n",
        "rows_pos = df_valid.OUTPUT_LABEL == 1\n",
        "df_valid_pos = df_valid.loc[rows_pos]\n",
        "df_valid_neg = df_valid.loc[~rows_pos]\n",
        "\n",
        "# merge the balanced data\n",
        "df_valid = pd.concat([df_valid_pos, df_valid_neg.sample(n = len(df_valid_pos), random_state = 42)],axis = 0)\n",
        "\n",
        "# shuffle the order of training samples \n",
        "df_valid = df_valid.sample(n = len(df_valid), random_state = 42).reset_index(drop = True)"
      ],
      "execution_count": 35,
      "outputs": []
    },
    {
      "cell_type": "code",
      "metadata": {
        "id": "GT-Sq8CbCIad"
      },
      "source": [
        "rows_pos = df_test.OUTPUT_LABEL == 1\n",
        "df_test_pos = df_test.loc[rows_pos]\n",
        "df_test_neg = df_test.loc[~rows_pos]\n",
        "\n",
        "# merge the balanced data\n",
        "df_test = pd.concat([df_test_pos, df_test_neg.sample(n = len(df_test_pos), random_state = 42)],axis = 0)\n",
        "\n",
        "# shuffle the order of training samples \n",
        "df_test = df_test.sample(n = len(df_test), random_state = 42).reset_index(drop = True)"
      ],
      "execution_count": 36,
      "outputs": []
    },
    {
      "cell_type": "code",
      "metadata": {
        "id": "Fn2nfHMKCIk4"
      },
      "source": [
        "df_train_all.to_csv('df_train_all.csv',index=False)\n",
        "df_train.to_csv('df_train.csv',index=False)\n",
        "df_valid.to_csv('df_valid.csv',index=False)\n",
        "df_test.to_csv('df_test.csv',index=False)"
      ],
      "execution_count": 37,
      "outputs": []
    },
    {
      "cell_type": "code",
      "metadata": {
        "id": "ZU6tPmhTCIwl"
      },
      "source": [
        "def fill_my_missing(df, df_mean, col2use):\n",
        "    # This function fills the missing values\n",
        "\n",
        "    # check the columns are present\n",
        "    for c in col2use:\n",
        "        assert c in df.columns, c + ' not in df'\n",
        "        assert c in df_mean.col.values, c+ 'not in df_mean'\n",
        "    \n",
        "    # replace the mean \n",
        "    for c in col2use:\n",
        "        mean_value = df_mean.loc[df_mean.col == c,'mean_val'].values[0]\n",
        "        df[c] = df[c].fillna(mean_value)\n",
        "    return df"
      ],
      "execution_count": 38,
      "outputs": []
    },
    {
      "cell_type": "code",
      "metadata": {
        "id": "Vmp9o-vDCYRs"
      },
      "source": [
        "df_mean = df_train_all[cols_input].mean(axis = 0)\n",
        "# save the means\n",
        "df_mean.to_csv('df_mean.csv',index=True)"
      ],
      "execution_count": 40,
      "outputs": []
    },
    {
      "cell_type": "code",
      "metadata": {
        "colab": {
          "base_uri": "https://localhost:8080/"
        },
        "id": "VAFH8B9hLBNT",
        "outputId": "134bb367-7931-4d50-e389-c1df8c63811e"
      },
      "source": [
        "df_test=df_data.sample(frac=0.30,random_state=42)\n",
        "print('Split size: %.3f'%(len(df_test)/len(df_data)))"
      ],
      "execution_count": 25,
      "outputs": [
        {
          "output_type": "stream",
          "name": "stdout",
          "text": [
            "Split size: 0.300\n"
          ]
        }
      ]
    },
    {
      "cell_type": "code",
      "metadata": {
        "colab": {
          "base_uri": "https://localhost:8080/",
          "height": 206
        },
        "id": "4-pzjBEACzgc",
        "outputId": "75ef948f-cc9a-408d-f3ad-e91f47ec8072"
      },
      "source": [
        "df_mean_in = pd.read_csv('df_mean.csv', names =['col','mean_val'])\n",
        "df_mean_in.head()"
      ],
      "execution_count": 42,
      "outputs": [
        {
          "output_type": "execute_result",
          "data": {
            "text/html": [
              "<div>\n",
              "<style scoped>\n",
              "    .dataframe tbody tr th:only-of-type {\n",
              "        vertical-align: middle;\n",
              "    }\n",
              "\n",
              "    .dataframe tbody tr th {\n",
              "        vertical-align: top;\n",
              "    }\n",
              "\n",
              "    .dataframe thead th {\n",
              "        text-align: right;\n",
              "    }\n",
              "</style>\n",
              "<table border=\"1\" class=\"dataframe\">\n",
              "  <thead>\n",
              "    <tr style=\"text-align: right;\">\n",
              "      <th></th>\n",
              "      <th>col</th>\n",
              "      <th>mean_val</th>\n",
              "    </tr>\n",
              "  </thead>\n",
              "  <tbody>\n",
              "    <tr>\n",
              "      <th>0</th>\n",
              "      <td>NaN</td>\n",
              "      <td>0.000000</td>\n",
              "    </tr>\n",
              "    <tr>\n",
              "      <th>1</th>\n",
              "      <td>campaign</td>\n",
              "      <td>2.772213</td>\n",
              "    </tr>\n",
              "    <tr>\n",
              "      <th>2</th>\n",
              "      <td>pdays</td>\n",
              "      <td>40.349438</td>\n",
              "    </tr>\n",
              "    <tr>\n",
              "      <th>3</th>\n",
              "      <td>previous</td>\n",
              "      <td>0.586009</td>\n",
              "    </tr>\n",
              "    <tr>\n",
              "      <th>4</th>\n",
              "      <td>day</td>\n",
              "      <td>15.830037</td>\n",
              "    </tr>\n",
              "  </tbody>\n",
              "</table>\n",
              "</div>"
            ],
            "text/plain": [
              "        col   mean_val\n",
              "0       NaN   0.000000\n",
              "1  campaign   2.772213\n",
              "2     pdays  40.349438\n",
              "3  previous   0.586009\n",
              "4       day  15.830037"
            ]
          },
          "metadata": {},
          "execution_count": 42
        }
      ]
    },
    {
      "cell_type": "code",
      "metadata": {
        "id": "0Gazne1WCqo9"
      },
      "source": [
        "df_train_all = fill_my_missing(df_train_all, df_mean_in, cols_input)\n",
        "df_train = fill_my_missing(df_train, df_mean_in, cols_input)\n",
        "df_valid = fill_my_missing(df_valid, df_mean_in, cols_input)"
      ],
      "execution_count": 43,
      "outputs": []
    },
    {
      "cell_type": "code",
      "metadata": {
        "id": "48L2Uc1qCq1F"
      },
      "source": [
        "X_train = df_train[cols_input].values\n",
        "X_train_all = df_train_all[cols_input].values\n",
        "X_valid = df_valid[cols_input].values\n",
        "\n",
        "y_train = df_train['OUTPUT_LABEL'].values\n",
        "y_valid = df_valid['OUTPUT_LABEL'].values"
      ],
      "execution_count": 44,
      "outputs": []
    },
    {
      "cell_type": "code",
      "metadata": {
        "colab": {
          "base_uri": "https://localhost:8080/"
        },
        "id": "K0kVZRfXCq-K",
        "outputId": "0ce67e54-a0f4-4dac-adcf-a0825975f8b2"
      },
      "source": [
        "from sklearn.preprocessing import StandardScaler\n",
        "scaler  = StandardScaler()\n",
        "scaler.fit(X_train_all)"
      ],
      "execution_count": 45,
      "outputs": [
        {
          "output_type": "execute_result",
          "data": {
            "text/plain": [
              "StandardScaler(copy=True, with_mean=True, with_std=True)"
            ]
          },
          "metadata": {},
          "execution_count": 45
        }
      ]
    },
    {
      "cell_type": "code",
      "metadata": {
        "id": "HwjUvOVjDFne"
      },
      "source": [
        "import pickle\n",
        "pickle.dump(cols_input, open('cols_input.sav', 'wb'))"
      ],
      "execution_count": 46,
      "outputs": []
    },
    {
      "cell_type": "code",
      "metadata": {
        "id": "yh0FEDivFOR1"
      },
      "source": [
        "scalerfile = 'scaler.sav'\n",
        "pickle.dump(scaler, open(scalerfile, 'wb'))"
      ],
      "execution_count": 47,
      "outputs": []
    },
    {
      "cell_type": "code",
      "metadata": {
        "id": "lFlRJ093FRWS"
      },
      "source": [
        "scaler = pickle.load(open(scalerfile, 'rb'))"
      ],
      "execution_count": 48,
      "outputs": []
    },
    {
      "cell_type": "code",
      "metadata": {
        "id": "uYSrk-n-FRfU"
      },
      "source": [
        "X_train_tf = scaler.transform(X_train)\n",
        "X_valid_tf = scaler.transform(X_valid)"
      ],
      "execution_count": 49,
      "outputs": []
    },
    {
      "cell_type": "code",
      "metadata": {
        "id": "KfFq1pJVFRhi"
      },
      "source": [
        "from sklearn.ensemble import RandomForestClassifier\n",
        "classifier= RandomForestClassifier(n_estimators=10,criterion='entropy',random_state=1810)"
      ],
      "execution_count": 50,
      "outputs": []
    },
    {
      "cell_type": "code",
      "metadata": {
        "id": "OZY6hU_RFRjy"
      },
      "source": [
        "classifier.fit(X_train,y_train)\n",
        "y_pred=classifier.predict(X_valid)"
      ],
      "execution_count": 53,
      "outputs": []
    },
    {
      "cell_type": "code",
      "metadata": {
        "colab": {
          "base_uri": "https://localhost:8080/"
        },
        "id": "bSOU4RpBFRnQ",
        "outputId": "001b2590-4aa4-4450-bb1d-d6e72ce28fab"
      },
      "source": [
        "from sklearn.metrics import confusion_matrix\n",
        "cm=confusion_matrix(y_valid,y_pred)\n",
        "print(cm)"
      ],
      "execution_count": 54,
      "outputs": [
        {
          "output_type": "stream",
          "name": "stdout",
          "text": [
            "[[660  90]\n",
            " [ 44 706]]\n"
          ]
        }
      ]
    },
    {
      "cell_type": "code",
      "metadata": {
        "colab": {
          "base_uri": "https://localhost:8080/"
        },
        "id": "XY6Tg6kbJPjR",
        "outputId": "ea2b6ac6-456c-4e2b-b0c4-c5c5712b001f"
      },
      "source": [
        "from sklearn.metrics import accuracy_score\n",
        "print(\"Accuracy: {}\".format(accuracy_score(y_valid,y_pred)))"
      ],
      "execution_count": 56,
      "outputs": [
        {
          "output_type": "stream",
          "name": "stdout",
          "text": [
            "Accuracy: 0.9106666666666666\n"
          ]
        }
      ]
    }
  ]
}